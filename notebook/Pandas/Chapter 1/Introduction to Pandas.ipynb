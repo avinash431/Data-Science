{
 "cells": [
  {
   "cell_type": "markdown",
   "metadata": {},
   "source": [
    "# Pandas Intro\n",
    "\n",
    "Pandas is an open-source Python Library providing high-performance data manipulation and analysis tool using its powerful data structures.\n",
    "\n",
    "The name Pandas is derived from the word Panel Data – an Econometrics from Multidimensional data.\n",
    "\n",
    "In 2008, developer Wes McKinney started developing pandas when in need of high performance, flexible tool for analysis of data.\n",
    "\n",
    "\n",
    "## Key Features of Pandas\n",
    "\n",
    "-  Fast and efficient DataFrame object with default and customized indexing.\n",
    "-  Tools for loading data into in-memory data objects from different file formats.\n",
    "-  Data alignment and integrated handling of missing data.\n",
    "-  Reshaping and pivoting of date sets.\n",
    "-  Label-based slicing, indexing and subsetting of large data sets.\n",
    "-  Columns from a data structure can be deleted or inserted.\n",
    "-  Group by data for aggregation and transformations.\n",
    "-  High performance merging and joining of data.\n",
    "-  Time Series functionality.\n",
    "\n",
    "\n"
   ]
  },
  {
   "cell_type": "code",
   "execution_count": 1,
   "metadata": {
    "collapsed": true
   },
   "outputs": [],
   "source": [
    "# importing pandas\n",
    "\n",
    "import pandas as pd"
   ]
  },
  {
   "cell_type": "code",
   "execution_count": 2,
   "metadata": {
    "collapsed": false
   },
   "outputs": [
    {
     "data": {
      "text/plain": [
       "'0.19.2'"
      ]
     },
     "execution_count": 2,
     "metadata": {},
     "output_type": "execute_result"
    }
   ],
   "source": [
    "# check the version of pandas\n",
    "\n",
    "pd.__version__"
   ]
  },
  {
   "cell_type": "markdown",
   "metadata": {},
   "source": [
    "# Pandas deals with the following three data structures −\n",
    "\n",
    "1. Series\n",
    "2. DataFrame\n",
    "3. Panel\n",
    "\n",
    "These data structures are built on top of Numpy array,"
   ]
  },
  {
   "cell_type": "markdown",
   "metadata": {},
   "source": [
    "|Data Structure | Dimensions | Description \n",
    "|----------------------------------------------------------------------------|\n",
    "|Series         | 1          | 1D labeled homogeneous array, sizeimmutable   |\n",
    "|DataFrame      | 2          | 2D labeled, size-mutable, tabular structure   |\n",
    "|Panel          | 3          | 3D labeled, size-mutable array                |"
   ]
  },
  {
   "cell_type": "markdown",
   "metadata": {},
   "source": [
    "# Series\n",
    "\n",
    "Series is a one-dimensional array like structure with homogeneous data.\n",
    "\n",
    "|10|15|20|25|30|35|40|\n",
    "|--------------------|\n",
    "\n",
    "## Key Points\n",
    "-  Homogeneous data\n",
    "-  Size Immutable\n",
    "-  Values of Data Mutable"
   ]
  },
  {
   "cell_type": "markdown",
   "metadata": {},
   "source": [
    "# DataFrame\n",
    "\n",
    "|Name     |  Age | Gender\n",
    "|---------------------------------------------------------\n",
    "|Avinash  |  30  |  M\n",
    "|Prasanna |  29  |  F\n",
    "|Akhila   |  24  |  F\n",
    "|Anupama  |  27  |  F\n",
    "\n",
    "\n",
    "## Key Points\n",
    "-  Heterogenous data\n",
    "-  Size Mutable\n",
    "-  Values of Data Mutable"
   ]
  },
  {
   "cell_type": "markdown",
   "metadata": {},
   "source": [
    "# Panel\n",
    "\n",
    "Panel is a three-dimensional data structure with heterogeneous data.\n",
    "\n",
    "## Key Points\n",
    "-  Heterogenous data\n",
    "-  Size Mutable\n",
    "-  Values of Data Mutable"
   ]
  }
 ],
 "metadata": {
  "kernelspec": {
   "display_name": "Python 3",
   "language": "python",
   "name": "python3"
  },
  "language_info": {
   "codemirror_mode": {
    "name": "ipython",
    "version": 3
   },
   "file_extension": ".py",
   "mimetype": "text/x-python",
   "name": "python",
   "nbconvert_exporter": "python",
   "pygments_lexer": "ipython3",
   "version": "3.5.5"
  }
 },
 "nbformat": 4,
 "nbformat_minor": 2
}
